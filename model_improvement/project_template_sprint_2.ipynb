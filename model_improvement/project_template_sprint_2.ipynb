{
 "cells": [
  {
   "cell_type": "code",
   "execution_count": 2,
   "metadata": {},
   "outputs": [],
   "source": [
    "import os\n",
    "import psycopg\n",
    "import pandas as pd\n",
    "\n",
    "TABLE_NAME = 'flats_clean_table'\n",
    "\n",
    "os.environ[\"DB_DESTINATION_HOST\"] = os.getenv(\"DB_DESTINATION_HOST\")\n",
    "os.environ[\"DB_DESTINATION_PORT\"] = os.getenv(\"DB_DESTINATION_PORT\")\n",
    "os.environ[\"DB_DESTINATION_NAME\"] = os.getenv(\"DB_DESTINATION_NAME\")\n",
    "os.environ[\"DB_DESTINATION_USER\"] = os.getenv(\"DB_DESTINATION_USER\")\n",
    "os.environ[\"DB_DESTINATION_PASSWORD\"] = os.getenv(\"DB_DESTINATION_PASSWORD\")\n",
    "\n",
    "os.environ[\"MLFLOW_S3_ENDPOINT_URL\"] = \"https://storage.yandexcloud.net\" #endpoint бакета от YandexCloud\n",
    "os.environ[\"AWS_ACCESS_KEY_ID\"] = os.getenv(\"AWS_ACCESS_KEY_ID\") # получаем id ключа бакета, к которому подключён MLFlow, из .env\n",
    "os.environ[\"AWS_SECRET_ACCESS_KEY\"] = os.getenv(\"AWS_SECRET_ACCESS_KEY\")\n",
    "\n",
    "\n",
    "connection = {\"sslmode\": \"require\", \"target_session_attrs\": \"read-write\"}\n",
    "postgres_credentials = {\n",
    "    \"host\": os.environ[\"DB_DESTINATION_HOST\"], \n",
    "    \"port\": os.environ[\"DB_DESTINATION_PORT\"],\n",
    "    \"dbname\": os.environ[\"DB_DESTINATION_NAME\"],\n",
    "    \"user\": os.environ[\"DB_DESTINATION_USER\"],\n",
    "    \"password\": os.environ[\"DB_DESTINATION_PASSWORD\"],\n",
    "}\n",
    "assert all([var_value != \"\" for var_value in list(postgres_credentials.values())])\n",
    "\n",
    "connection.update(postgres_credentials)\n",
    "\n",
    "with psycopg.connect(**connection) as conn:\n",
    "\n",
    "    with conn.cursor() as cur:\n",
    "        cur.execute(f\"SELECT * FROM {TABLE_NAME}\")\n",
    "        data = cur.fetchall()\n",
    "        columns = [col[0] for col in cur.description]\n",
    "\n",
    "df = pd.DataFrame(data, columns=columns)"
   ]
  },
  {
   "cell_type": "code",
   "execution_count": 3,
   "metadata": {},
   "outputs": [],
   "source": [
    "from sklearn.model_selection import train_test_split\n",
    "\n",
    "X_train, X_test, y_train, y_test = train_test_split(df, df['price'], test_size=0.2, random_state=42)\n",
    "num_columns = ['floor', 'kitchen_area', 'living_area', 'rooms',\n",
    "               'total_area', 'build_year', 'building_type_int', \n",
    "               'latitude', 'longitude', 'ceiling_height', 'flats_count',\n",
    "               'floors_total']\n",
    "cat_columns = ['is_apartment','has_elevator']"
   ]
  },
  {
   "cell_type": "markdown",
   "metadata": {},
   "source": [
    "Previous model fit:"
   ]
  },
  {
   "cell_type": "code",
   "execution_count": 4,
   "metadata": {},
   "outputs": [],
   "source": [
    "from sklearn.compose import ColumnTransformer\n",
    "from sklearn.pipeline import Pipeline\n",
    "from sklearn.preprocessing import OneHotEncoder, StandardScaler\n",
    "import xgboost as xgb\n",
    "from sklearn.metrics import mean_absolute_error\n",
    "import json\n",
    "\n",
    "preprocessor = ColumnTransformer(\n",
    "    [\n",
    "        ('num_cols_norm', StandardScaler(), num_columns),\n",
    "        ('cat_cols_encode', OneHotEncoder(drop='if_binary'), cat_columns)\n",
    "    ]\n",
    ")\n",
    "model = xgb.XGBRegressor(n_estimators=100, random_state=42)\n",
    "pipeline = Pipeline(\n",
    "    [\n",
    "        ('preprocessor', preprocessor),\n",
    "        ('model', model)\n",
    "    ]\n",
    ")\n",
    "pipeline.fit(X_train, y_train)\n",
    "prediction = pipeline.predict(X_test)\n",
    "metric = {}\n",
    "mae = mean_absolute_error(y_test, prediction)\n",
    "metric['mae'] = mae\n",
    "with open('metrics.json', 'w') as f:\n",
    "    json.dump(metric, f)"
   ]
  },
  {
   "cell_type": "code",
   "execution_count": 5,
   "metadata": {},
   "outputs": [],
   "source": [
    "from sklearn.compose import ColumnTransformer\n",
    "from sklearn.pipeline import Pipeline\n",
    "from sklearn.preprocessing import (\n",
    "    OneHotEncoder, \n",
    "    SplineTransformer, \n",
    "    QuantileTransformer, \n",
    "    RobustScaler,\n",
    "    PolynomialFeatures,\n",
    "    KBinsDiscretizer,\n",
    ")\n",
    "\n",
    "num_columns = ['floor', 'kitchen_area', 'living_area', 'rooms',\n",
    "               'total_area', 'build_year', 'building_type_int', \n",
    "               'latitude', 'longitude', 'ceiling_height', 'flats_count',\n",
    "               'floors_total']\n",
    "cat_columns = ['is_apartment','has_elevator']\n",
    "\n",
    "encoder_oh = OneHotEncoder(categories='auto', handle_unknown='ignore', sparse_output=False, drop='first')\n",
    "encoder_spl = SplineTransformer(n_knots=3, degree=4)\n",
    "encoder_q = QuantileTransformer(n_quantiles=100)\n",
    "encoder_rb = RobustScaler()\n",
    "encoder_pol = PolynomialFeatures(degree=3)\n",
    "encoder_kbd = KBinsDiscretizer(n_bins=5, encode='ordinal', strategy='uniform', subsample=None)\n",
    "\n",
    "transformer = ColumnTransformer(\n",
    "  transformers=[\n",
    "      ('encoder', encoder_oh, cat_columns),\n",
    "      ('spl', encoder_spl, num_columns), \n",
    "      ('q', encoder_q, num_columns), \n",
    "      ('rb', encoder_rb, num_columns), \n",
    "      ('pol', encoder_pol, num_columns), \n",
    "      ('kbd', encoder_kbd, num_columns)\n",
    "  ], n_jobs=-1\n",
    ")\n"
   ]
  },
  {
   "cell_type": "code",
   "execution_count": 6,
   "metadata": {},
   "outputs": [],
   "source": [
    "pipeline_fe = Pipeline(\n",
    "    [\n",
    "        ('preprocessor', transformer),\n",
    "        ('model', model)\n",
    "    ]\n",
    ")\n",
    "pipeline_fe.fit(X_train, y_train)\n",
    "prediction_fe = pipeline_fe.predict(X_test)\n",
    "metric_fe = {}\n",
    "mae = mean_absolute_error(y_test, prediction_fe)\n",
    "metric_fe['mae'] = mae"
   ]
  },
  {
   "cell_type": "code",
   "execution_count": 7,
   "metadata": {},
   "outputs": [],
   "source": [
    "from autofeat import AutoFeatRegressor\n",
    "autofeat = AutoFeatRegressor(feateng_steps=2, max_gb=16, transformations=['1+', 'sqrt', 'abs'])"
   ]
  },
  {
   "cell_type": "code",
   "execution_count": 8,
   "metadata": {},
   "outputs": [],
   "source": [
    "autofeat_tr = ColumnTransformer(\n",
    "    transformers=[\n",
    "        (\"autofeat\", autofeat, num_columns)\n",
    "    ]\n",
    ")"
   ]
  },
  {
   "cell_type": "code",
   "execution_count": 9,
   "metadata": {},
   "outputs": [
    {
     "data": {
      "text/html": [
       "<style>#sk-container-id-1 {color: black;}#sk-container-id-1 pre{padding: 0;}#sk-container-id-1 div.sk-toggleable {background-color: white;}#sk-container-id-1 label.sk-toggleable__label {cursor: pointer;display: block;width: 100%;margin-bottom: 0;padding: 0.3em;box-sizing: border-box;text-align: center;}#sk-container-id-1 label.sk-toggleable__label-arrow:before {content: \"▸\";float: left;margin-right: 0.25em;color: #696969;}#sk-container-id-1 label.sk-toggleable__label-arrow:hover:before {color: black;}#sk-container-id-1 div.sk-estimator:hover label.sk-toggleable__label-arrow:before {color: black;}#sk-container-id-1 div.sk-toggleable__content {max-height: 0;max-width: 0;overflow: hidden;text-align: left;background-color: #f0f8ff;}#sk-container-id-1 div.sk-toggleable__content pre {margin: 0.2em;color: black;border-radius: 0.25em;background-color: #f0f8ff;}#sk-container-id-1 input.sk-toggleable__control:checked~div.sk-toggleable__content {max-height: 200px;max-width: 100%;overflow: auto;}#sk-container-id-1 input.sk-toggleable__control:checked~label.sk-toggleable__label-arrow:before {content: \"▾\";}#sk-container-id-1 div.sk-estimator input.sk-toggleable__control:checked~label.sk-toggleable__label {background-color: #d4ebff;}#sk-container-id-1 div.sk-label input.sk-toggleable__control:checked~label.sk-toggleable__label {background-color: #d4ebff;}#sk-container-id-1 input.sk-hidden--visually {border: 0;clip: rect(1px 1px 1px 1px);clip: rect(1px, 1px, 1px, 1px);height: 1px;margin: -1px;overflow: hidden;padding: 0;position: absolute;width: 1px;}#sk-container-id-1 div.sk-estimator {font-family: monospace;background-color: #f0f8ff;border: 1px dotted black;border-radius: 0.25em;box-sizing: border-box;margin-bottom: 0.5em;}#sk-container-id-1 div.sk-estimator:hover {background-color: #d4ebff;}#sk-container-id-1 div.sk-parallel-item::after {content: \"\";width: 100%;border-bottom: 1px solid gray;flex-grow: 1;}#sk-container-id-1 div.sk-label:hover label.sk-toggleable__label {background-color: #d4ebff;}#sk-container-id-1 div.sk-serial::before {content: \"\";position: absolute;border-left: 1px solid gray;box-sizing: border-box;top: 0;bottom: 0;left: 50%;z-index: 0;}#sk-container-id-1 div.sk-serial {display: flex;flex-direction: column;align-items: center;background-color: white;padding-right: 0.2em;padding-left: 0.2em;position: relative;}#sk-container-id-1 div.sk-item {position: relative;z-index: 1;}#sk-container-id-1 div.sk-parallel {display: flex;align-items: stretch;justify-content: center;background-color: white;position: relative;}#sk-container-id-1 div.sk-item::before, #sk-container-id-1 div.sk-parallel-item::before {content: \"\";position: absolute;border-left: 1px solid gray;box-sizing: border-box;top: 0;bottom: 0;left: 50%;z-index: -1;}#sk-container-id-1 div.sk-parallel-item {display: flex;flex-direction: column;z-index: 1;position: relative;background-color: white;}#sk-container-id-1 div.sk-parallel-item:first-child::after {align-self: flex-end;width: 50%;}#sk-container-id-1 div.sk-parallel-item:last-child::after {align-self: flex-start;width: 50%;}#sk-container-id-1 div.sk-parallel-item:only-child::after {width: 0;}#sk-container-id-1 div.sk-dashed-wrapped {border: 1px dashed gray;margin: 0 0.4em 0.5em 0.4em;box-sizing: border-box;padding-bottom: 0.4em;background-color: white;}#sk-container-id-1 div.sk-label label {font-family: monospace;font-weight: bold;display: inline-block;line-height: 1.2em;}#sk-container-id-1 div.sk-label-container {text-align: center;}#sk-container-id-1 div.sk-container {/* jupyter's `normalize.less` sets `[hidden] { display: none; }` but bootstrap.min.css set `[hidden] { display: none !important; }` so we also need the `!important` here to be able to override the default hidden behavior on the sphinx rendered scikit-learn.org. See: https://github.com/scikit-learn/scikit-learn/issues/21755 */display: inline-block !important;position: relative;}#sk-container-id-1 div.sk-text-repr-fallback {display: none;}</style><div id=\"sk-container-id-1\" class=\"sk-top-container\"><div class=\"sk-text-repr-fallback\"><pre>XGBRegressor(base_score=None, booster=None, callbacks=None,\n",
       "             colsample_bylevel=None, colsample_bynode=None,\n",
       "             colsample_bytree=None, device=None, early_stopping_rounds=None,\n",
       "             enable_categorical=False, eval_metric=None, feature_types=None,\n",
       "             gamma=None, grow_policy=None, importance_type=None,\n",
       "             interaction_constraints=None, learning_rate=None, max_bin=None,\n",
       "             max_cat_threshold=None, max_cat_to_onehot=None,\n",
       "             max_delta_step=None, max_depth=None, max_leaves=None,\n",
       "             min_child_weight=None, missing=nan, monotone_constraints=None,\n",
       "             multi_strategy=None, n_estimators=100, n_jobs=None,\n",
       "             num_parallel_tree=None, random_state=42, ...)</pre><b>In a Jupyter environment, please rerun this cell to show the HTML representation or trust the notebook. <br />On GitHub, the HTML representation is unable to render, please try loading this page with nbviewer.org.</b></div><div class=\"sk-container\" hidden><div class=\"sk-item\"><div class=\"sk-estimator sk-toggleable\"><input class=\"sk-toggleable__control sk-hidden--visually\" id=\"sk-estimator-id-1\" type=\"checkbox\" checked><label for=\"sk-estimator-id-1\" class=\"sk-toggleable__label sk-toggleable__label-arrow\">XGBRegressor</label><div class=\"sk-toggleable__content\"><pre>XGBRegressor(base_score=None, booster=None, callbacks=None,\n",
       "             colsample_bylevel=None, colsample_bynode=None,\n",
       "             colsample_bytree=None, device=None, early_stopping_rounds=None,\n",
       "             enable_categorical=False, eval_metric=None, feature_types=None,\n",
       "             gamma=None, grow_policy=None, importance_type=None,\n",
       "             interaction_constraints=None, learning_rate=None, max_bin=None,\n",
       "             max_cat_threshold=None, max_cat_to_onehot=None,\n",
       "             max_delta_step=None, max_depth=None, max_leaves=None,\n",
       "             min_child_weight=None, missing=nan, monotone_constraints=None,\n",
       "             multi_strategy=None, n_estimators=100, n_jobs=None,\n",
       "             num_parallel_tree=None, random_state=42, ...)</pre></div></div></div></div></div>"
      ],
      "text/plain": [
       "XGBRegressor(base_score=None, booster=None, callbacks=None,\n",
       "             colsample_bylevel=None, colsample_bynode=None,\n",
       "             colsample_bytree=None, device=None, early_stopping_rounds=None,\n",
       "             enable_categorical=False, eval_metric=None, feature_types=None,\n",
       "             gamma=None, grow_policy=None, importance_type=None,\n",
       "             interaction_constraints=None, learning_rate=None, max_bin=None,\n",
       "             max_cat_threshold=None, max_cat_to_onehot=None,\n",
       "             max_delta_step=None, max_depth=None, max_leaves=None,\n",
       "             min_child_weight=None, missing=nan, monotone_constraints=None,\n",
       "             multi_strategy=None, n_estimators=100, n_jobs=None,\n",
       "             num_parallel_tree=None, random_state=42, ...)"
      ]
     },
     "execution_count": 9,
     "metadata": {},
     "output_type": "execute_result"
    }
   ],
   "source": [
    "X_train_features = transformer.fit_transform(X_train, y_train)\n",
    "new_X_train = autofeat_tr.fit_transform(X_train, y_train)\n",
    "model.fit(new_X_train, y_train)"
   ]
  },
  {
   "cell_type": "code",
   "execution_count": 10,
   "metadata": {},
   "outputs": [],
   "source": [
    "X_test_features = transformer.transform(X_test)\n",
    "new_X_test = autofeat_tr.transform(X_test)\n",
    "prediction_fe_af = model.predict(new_X_test)"
   ]
  },
  {
   "cell_type": "code",
   "execution_count": 11,
   "metadata": {},
   "outputs": [],
   "source": [
    "\n",
    "metric_fe_af = {}\n",
    "mae = mean_absolute_error(y_test, prediction_fe_af)\n",
    "metric_fe_af['mae'] = mae"
   ]
  },
  {
   "cell_type": "code",
   "execution_count": 12,
   "metadata": {},
   "outputs": [
    {
     "data": {
      "text/plain": [
       "{'mae': 2719819.1586311744}"
      ]
     },
     "execution_count": 12,
     "metadata": {},
     "output_type": "execute_result"
    }
   ],
   "source": [
    "metric_fe"
   ]
  },
  {
   "cell_type": "code",
   "execution_count": 13,
   "metadata": {},
   "outputs": [
    {
     "data": {
      "text/plain": [
       "{'mae': 2611039.2215393456}"
      ]
     },
     "execution_count": 13,
     "metadata": {},
     "output_type": "execute_result"
    }
   ],
   "source": [
    "metric_fe_af"
   ]
  },
  {
   "cell_type": "code",
   "execution_count": 14,
   "metadata": {},
   "outputs": [
    {
     "data": {
      "image/png": "[encoded data removed]",
      "text/plain": [
       "<Figure size 640x480 with 1 Axes>"
      ]
     },
     "metadata": {},
     "output_type": "display_data"
    }
   ],
   "source": [
    "import seaborn as sns\n",
    "import matplotlib.pyplot as plt\n",
    "\n",
    "ASSETS_DIR = '../assets'\n",
    "os.makedirs(ASSETS_DIR, exist_ok=True)\n",
    "\n",
    "data = pd.DataFrame({\n",
    "    'method': ['Before', 'Feature_extr', 'Feature_extr_autofeat'],\n",
    "    'values': [metric['mae'], metric_fe['mae'], metric_fe_af['mae']]\n",
    "})\n",
    "sns.barplot(x='method', y='values',data=data)\n",
    "plt.savefig(os.path.join(ASSETS_DIR,'metrics_improvement_extracting'))"
   ]
  },
  {
   "cell_type": "code",
   "execution_count": 15,
   "metadata": {},
   "outputs": [],
   "source": [
    "import mlflow\n",
    "TRACKING_SERVER_HOST = \"127.0.0.1\"\n",
    "TRACKING_SERVER_PORT = 5000\n",
    "\n",
    "tracking_uri = f\"http://{TRACKING_SERVER_HOST}:{TRACKING_SERVER_PORT}\"\n",
    "mlflow.set_tracking_uri(tracking_uri)\n",
    "mlflow.set_registry_uri(tracking_uri)"
   ]
  },
  {
   "cell_type": "code",
   "execution_count": 16,
   "metadata": {},
   "outputs": [],
   "source": [
    "EXPERIMENT_NAME = \"yandex_realty_aleksandra\"\n",
    "REGISTRY_MODEL_NAME = \"better_model_aleksandra\"\n",
    "RUN_NAME = 'save_better_model'"
   ]
  },
  {
   "cell_type": "code",
   "execution_count": 17,
   "metadata": {},
   "outputs": [
    {
     "name": "stderr",
     "output_type": "stream",
     "text": [
      "2025-01-16 10:47:58,620 INFO: Found credentials in environment variables.\n",
      "Registered model 'better_model_aleksandra' already exists. Creating a new version of this model...\n",
      "2025/01/16 10:47:59 INFO mlflow.tracking._model_registry.client: Waiting up to 60 seconds for model version to finish creation. Model name: better_model_aleksandra, version 7\n",
      "Created version '7' of model 'better_model_aleksandra'.\n"
     ]
    }
   ],
   "source": [
    "\n",
    "pip_requirements = \"../requirements.txt\"\n",
    "signature = mlflow.models.infer_signature(new_X_test, prediction_fe_af)\n",
    "input_example = new_X_test[:10]\n",
    "metadata = {'model_type': 'monthly'}\n",
    "\n",
    "experiment_id = mlflow.get_experiment_by_name(EXPERIMENT_NAME)\n",
    "if not (experiment_id):\n",
    "    experiment_id = mlflow.create_experiment(EXPERIMENT_NAME)\n",
    "else:\n",
    "    experiment_id = experiment_id.experiment_id\n",
    "\n",
    "with mlflow.start_run(run_name=RUN_NAME, experiment_id=experiment_id) as run:\n",
    "    run_id = run.info.run_id\n",
    "    # ваш код здесь\n",
    "    model_info = mlflow.sklearn.log_model(\n",
    "        sk_model=model,\n",
    "        pip_requirements=pip_requirements,\n",
    "        metadata=metadata,\n",
    "        signature=signature,\n",
    "        input_example=input_example,\n",
    "        registered_model_name=REGISTRY_MODEL_NAME,\n",
    "        artifact_path='models',\n",
    "        await_registration_for=60\n",
    "    )\n",
    "    mlflow.log_metrics(metrics=metric_fe_af)\n",
    "    mlflow.log_artifact(ASSETS_DIR)\n",
    "    \n"
   ]
  },
  {
   "cell_type": "code",
   "execution_count": 18,
   "metadata": {},
   "outputs": [],
   "source": [
    "from mlxtend.feature_selection import SequentialFeatureSelector as SFS\n",
    "\n",
    "estimator = xgb.XGBRegressor(n_estimators=100, random_state=42)\n",
    "sfs = SFS(estimator, k_features=15, forward=True, floating=False, scoring='neg_mean_absolute_error', cv=4, n_jobs=-1)\n",
    "sbs = SFS(estimator, k_features=15, forward=False, floating=False, scoring='neg_mean_absolute_error', cv=4, n_jobs=-1)\n",
    "\n",
    "sfs = sfs.fit(new_X_train, y_train)\n",
    "sbs = sbs.fit(new_X_train, y_train)\n",
    "\n",
    "top_sfs = sfs.k_feature_names_\n",
    "top_sbs = sbs.k_feature_names_"
   ]
  },
  {
   "cell_type": "code",
   "execution_count": 19,
   "metadata": {},
   "outputs": [],
   "source": [
    "sfs_df = pd.DataFrame.from_dict(sfs.get_metric_dict()).T\n",
    "sbs_df = pd.DataFrame.from_dict(sbs.get_metric_dict()).T \n",
    "\n",
    "\n",
    "sfs_df.to_csv(f\"{ASSETS_DIR}/sfs.csv\")\n",
    "sbs_df.to_csv(f\"{ASSETS_DIR}/sbs.csv\") "
   ]
  },
  {
   "cell_type": "code",
   "execution_count": 20,
   "metadata": {},
   "outputs": [
    {
     "data": {
      "image/png": "[encoded data removed]",
      "text/plain": [
       "<Figure size 640x480 with 1 Axes>"
      ]
     },
     "metadata": {},
     "output_type": "display_data"
    },
    {
     "data": {
      "text/plain": [
       "<Figure size 640x480 with 0 Axes>"
      ]
     },
     "metadata": {},
     "output_type": "display_data"
    }
   ],
   "source": [
    "from mlxtend.plotting import plot_sequential_feature_selection as plot_sfs\n",
    "\n",
    "fig = plot_sfs(sfs.get_metric_dict(), kind='std_dev')\n",
    "\n",
    "plt.title('Sequential Forward Selection (w. StdDev)')\n",
    "plt.grid()\n",
    "plt.show()\n",
    "\n",
    "plt.savefig(f\"{ASSETS_DIR}/sfs.png\") "
   ]
  },
  {
   "cell_type": "code",
   "execution_count": 21,
   "metadata": {},
   "outputs": [
    {
     "data": {
      "image/png": "[encoded data removed]",
      "text/plain": [
       "<Figure size 640x480 with 1 Axes>"
      ]
     },
     "metadata": {},
     "output_type": "display_data"
    },
    {
     "data": {
      "text/plain": [
       "<Figure size 640x480 with 0 Axes>"
      ]
     },
     "metadata": {},
     "output_type": "display_data"
    }
   ],
   "source": [
    "import matplotlib.pyplot as plt\n",
    "from mlxtend.plotting import plot_sequential_feature_selection as plot_sfs\n",
    "\n",
    "fig = plot_sfs(sbs.get_metric_dict(), kind='std_dev')\n",
    "\n",
    "plt.title('Sequential Backward Selection (w. StdDev)')\n",
    "plt.grid()\n",
    "plt.show()\n",
    "\n",
    "plt.savefig(f\"{ASSETS_DIR}/sbs.png\") "
   ]
  },
  {
   "cell_type": "code",
   "execution_count": 22,
   "metadata": {},
   "outputs": [],
   "source": [
    "sfs_features = [int(el) for el in list(top_sfs)]\n",
    "sbs_features = [int(el) for el in list(top_sbs)]\n",
    "interc_features = list(set(sfs_features) & set(sbs_features))\n",
    "union_features = list(set(sfs_features) | set(sbs_features))"
   ]
  },
  {
   "cell_type": "code",
   "execution_count": 23,
   "metadata": {},
   "outputs": [],
   "source": [
    "model = xgb.XGBRegressor(n_estimators=100, random_state=42)\n",
    "model.fit(new_X_train[:, sfs_features], y_train)\n",
    "prediction_sfs = model.predict(new_X_test[:, sfs_features])\n",
    "metric_sfs = {}\n",
    "mae = mean_absolute_error(y_test, prediction_sfs)\n",
    "metric_sfs['mae'] = mae"
   ]
  },
  {
   "cell_type": "code",
   "execution_count": 24,
   "metadata": {},
   "outputs": [
    {
     "data": {
      "text/plain": [
       "{'mae': 2655904.091251145}"
      ]
     },
     "execution_count": 24,
     "metadata": {},
     "output_type": "execute_result"
    }
   ],
   "source": [
    "metric_sfs"
   ]
  },
  {
   "cell_type": "code",
   "execution_count": 25,
   "metadata": {},
   "outputs": [],
   "source": [
    "model = xgb.XGBRegressor(n_estimators=100, random_state=42)\n",
    "model.fit(new_X_train[:, sbs_features], y_train)\n",
    "prediction_sbs = model.predict(new_X_test[:, sbs_features])\n",
    "metric_sbs = {}\n",
    "mae = mean_absolute_error(y_test, prediction_sbs)\n",
    "metric_sbs['mae'] = mae"
   ]
  },
  {
   "cell_type": "code",
   "execution_count": 26,
   "metadata": {},
   "outputs": [
    {
     "data": {
      "text/plain": [
       "{'mae': 2887569.181294077}"
      ]
     },
     "execution_count": 26,
     "metadata": {},
     "output_type": "execute_result"
    }
   ],
   "source": [
    "metric_sbs"
   ]
  },
  {
   "cell_type": "code",
   "execution_count": 27,
   "metadata": {},
   "outputs": [],
   "source": [
    "model = xgb.XGBRegressor(n_estimators=100, random_state=42)\n",
    "model.fit(new_X_train[:, union_features], y_train)\n",
    "prediction_union = model.predict(new_X_test[:, union_features])\n",
    "metric_union = {}\n",
    "mae = mean_absolute_error(y_test, prediction_union)\n",
    "metric_union['mae'] = mae"
   ]
  },
  {
   "cell_type": "code",
   "execution_count": 28,
   "metadata": {},
   "outputs": [
    {
     "data": {
      "text/plain": [
       "{'mae': 2854950.8263926143}"
      ]
     },
     "execution_count": 28,
     "metadata": {},
     "output_type": "execute_result"
    }
   ],
   "source": [
    "metric_union"
   ]
  },
  {
   "cell_type": "code",
   "execution_count": 29,
   "metadata": {},
   "outputs": [],
   "source": [
    "model = xgb.XGBRegressor(n_estimators=100, random_state=42)\n",
    "model.fit(new_X_train[:, interc_features], y_train)\n",
    "prediction_interc = model.predict(new_X_test[:, interc_features])\n",
    "metric_interc = {}\n",
    "mae = mean_absolute_error(y_test, prediction_interc)\n",
    "metric_interc['mae'] = mae"
   ]
  },
  {
   "cell_type": "code",
   "execution_count": 30,
   "metadata": {},
   "outputs": [
    {
     "data": {
      "text/plain": [
       "{'mae': 2667770.9057253855}"
      ]
     },
     "execution_count": 30,
     "metadata": {},
     "output_type": "execute_result"
    }
   ],
   "source": [
    "metric_interc"
   ]
  },
  {
   "cell_type": "code",
   "execution_count": 31,
   "metadata": {},
   "outputs": [
    {
     "data": {
      "image/png": "[encoded data removed]",
      "text/plain": [
       "<Figure size 640x480 with 1 Axes>"
      ]
     },
     "metadata": {},
     "output_type": "display_data"
    }
   ],
   "source": [
    "data = pd.DataFrame({\n",
    "    'method': ['Before_selection','SBS', 'SFS', 'UNION', 'INTERSEC'],\n",
    "    'values': [metric_fe_af['mae'],metric_sbs['mae'], metric_sfs['mae'], metric_union['mae'], metric_interc['mae']]\n",
    "})\n",
    "sns.barplot(x='method', y='values',data=data)\n",
    "plt.savefig(os.path.join(ASSETS_DIR,'metrics_improvement_selection'))"
   ]
  },
  {
   "cell_type": "markdown",
   "metadata": {},
   "source": [
    "UNION is the best according to mae"
   ]
  },
  {
   "cell_type": "code",
   "execution_count": 32,
   "metadata": {},
   "outputs": [],
   "source": [
    "model = xgb.XGBRegressor(n_estimators=100, random_state=42)\n",
    "model.fit(new_X_train[:, union_features], y_train)\n",
    "prediction_union = model.predict(new_X_test[:, union_features])\n",
    "metric_union = {}\n",
    "mae = mean_absolute_error(y_test, prediction_union)\n",
    "metric_union['mae'] = mae"
   ]
  },
  {
   "cell_type": "code",
   "execution_count": 33,
   "metadata": {},
   "outputs": [],
   "source": [
    "EXPERIMENT_NAME = \"yandex_realty_aleksandra\"\n",
    "REGISTRY_MODEL_NAME = \"selection_model_aleksandra\"\n",
    "RUN_NAME = 'save_selection_model'"
   ]
  },
  {
   "cell_type": "code",
   "execution_count": 34,
   "metadata": {},
   "outputs": [
    {
     "name": "stderr",
     "output_type": "stream",
     "text": [
      "Registered model 'selection_model_aleksandra' already exists. Creating a new version of this model...\n",
      "2025/01/16 11:02:59 INFO mlflow.tracking._model_registry.client: Waiting up to 60 seconds for model version to finish creation. Model name: selection_model_aleksandra, version 4\n",
      "Created version '4' of model 'selection_model_aleksandra'.\n"
     ]
    }
   ],
   "source": [
    "\n",
    "pip_requirements = \"../requirements.txt\"\n",
    "signature = mlflow.models.infer_signature(new_X_test[:, union_features], prediction_union)\n",
    "input_example = new_X_test[:10, union_features]\n",
    "metadata = {'model_type': 'monthly'}\n",
    "\n",
    "experiment_id = mlflow.get_experiment_by_name(EXPERIMENT_NAME)\n",
    "if not (experiment_id):\n",
    "    experiment_id = mlflow.create_experiment(EXPERIMENT_NAME)\n",
    "else:\n",
    "    experiment_id = experiment_id.experiment_id\n",
    "\n",
    "with mlflow.start_run(run_name=RUN_NAME, experiment_id=experiment_id) as run:\n",
    "    run_id = run.info.run_id\n",
    "    # ваш код здесь\n",
    "    model_info = mlflow.sklearn.log_model(\n",
    "        sk_model=model,\n",
    "        pip_requirements=pip_requirements,\n",
    "        metadata=metadata,\n",
    "        signature=signature,\n",
    "        input_example=input_example,\n",
    "        registered_model_name=REGISTRY_MODEL_NAME,\n",
    "        artifact_path='models',\n",
    "        await_registration_for=60\n",
    "    )\n",
    "    mlflow.log_metrics(metrics=metric_union)\n",
    "    mlflow.log_artifact(ASSETS_DIR)\n",
    "    \n"
   ]
  },
  {
   "cell_type": "code",
   "execution_count": 49,
   "metadata": {},
   "outputs": [],
   "source": [
    "X_train = pd.DataFrame(new_X_train[:, union_features])\n",
    "X_test = pd.DataFrame(new_X_test[:, union_features])"
   ]
  },
  {
   "cell_type": "code",
   "execution_count": 57,
   "metadata": {},
   "outputs": [],
   "source": [
    "import optuna\n",
    "from sklearn.model_selection import StratifiedKFold\n",
    "from collections import defaultdict\n",
    "from statistics import median\n",
    "import numpy as np\n",
    "\n",
    "def objective(trial: optuna.Trial) -> float:\n",
    "    param = {\n",
    "        \"n_estimators\": trial.suggest_int('n_estimatores', 50, 200),\n",
    "        \"learning_rate\": trial.suggest_float(\"learning_rate\", 0.001, 0.1, log=True),\n",
    "        \"max_depth\": trial.suggest_int(\"max_depth\", 1, 12),\n",
    "        \"min_child_weight\": trial.suggest_int(\"min_child_weight\", 1, 10),\n",
    "        \"random_seed\": 0,\n",
    "     }\n",
    "    model = xgb.XGBRegressor(**param)\n",
    "\n",
    "    skf = StratifiedKFold(n_splits=2)\n",
    "\n",
    "    metric_optuna = defaultdict(list)\n",
    "    for i, (train_index, val_index) in enumerate(skf.split(X_train, y_train)):\n",
    "        train_x = X_train.iloc[train_index]\n",
    "        train_y = y_train.iloc[train_index]\n",
    "        val_x = X_train.iloc[val_index]\n",
    "        val_y = y_train.iloc[val_index]\n",
    "        model.fit(train_x, train_y)\n",
    "        prediction = model.predict(val_x)\n",
    "        mae = mean_absolute_error(val_y, prediction)\n",
    "        metric_optuna[\"mae\"].append(mae)\n",
    "\n",
    "    # ваш код здесь #\n",
    "    mae = median(np.array(metric_optuna[\"mae\"]))\n",
    "    \n",
    "    return mae"
   ]
  },
  {
   "cell_type": "code",
   "execution_count": 58,
   "metadata": {},
   "outputs": [
    {
     "name": "stderr",
     "output_type": "stream",
     "text": [
      "/tmp/ipykernel_4730/3812728619.py:17: ExperimentalWarning: MLflowCallback is experimental (supported from v1.4.0). The interface can change in the future.\n",
      "  mlflc = MLflowCallback(\n",
      "[I 2025-01-16 11:14:40,961] Using an existing study with name 'project-2-sprint' instead of creating a new one.\n",
      "/home/mle-user/mle_projects/mle-project-sprint-2-v001/.venv_mle_project_sprint_2/lib/python3.10/site-packages/sklearn/model_selection/_split.py:737: UserWarning: The least populated class in y has only 1 members, which is less than n_splits=2.\n",
      "  warnings.warn(\n",
      "/home/mle-user/mle_projects/mle-project-sprint-2-v001/.venv_mle_project_sprint_2/lib/python3.10/site-packages/xgboost/core.py:158: UserWarning: [11:14:41] WARNING: /workspace/src/learner.cc:740: \n",
      "Parameters: { \"random_seed\" } are not used.\n",
      "\n",
      "  warnings.warn(smsg, UserWarning)\n",
      "/home/mle-user/mle_projects/mle-project-sprint-2-v001/.venv_mle_project_sprint_2/lib/python3.10/site-packages/xgboost/core.py:158: UserWarning: [11:14:42] WARNING: /workspace/src/learner.cc:740: \n",
      "Parameters: { \"random_seed\" } are not used.\n",
      "\n",
      "  warnings.warn(smsg, UserWarning)\n",
      "[I 2025-01-16 11:14:42,676] Trial 8 finished with value: 3445793.3269835347 and parameters: {'n_estimatores': 150, 'learning_rate': 0.00807388067141556, 'max_depth': 4, 'min_child_weight': 8}. Best is trial 8 with value: 3445793.3269835347.\n",
      "/home/mle-user/mle_projects/mle-project-sprint-2-v001/.venv_mle_project_sprint_2/lib/python3.10/site-packages/sklearn/model_selection/_split.py:737: UserWarning: The least populated class in y has only 1 members, which is less than n_splits=2.\n",
      "  warnings.warn(\n",
      "/home/mle-user/mle_projects/mle-project-sprint-2-v001/.venv_mle_project_sprint_2/lib/python3.10/site-packages/xgboost/core.py:158: UserWarning: [11:14:43] WARNING: /workspace/src/learner.cc:740: \n",
      "Parameters: { \"random_seed\" } are not used.\n",
      "\n",
      "  warnings.warn(smsg, UserWarning)\n",
      "/home/mle-user/mle_projects/mle-project-sprint-2-v001/.venv_mle_project_sprint_2/lib/python3.10/site-packages/xgboost/core.py:158: UserWarning: [11:14:51] WARNING: /workspace/src/learner.cc:740: \n",
      "Parameters: { \"random_seed\" } are not used.\n",
      "\n",
      "  warnings.warn(smsg, UserWarning)\n",
      "[I 2025-01-16 11:14:57,484] Trial 9 finished with value: 2655862.262532795 and parameters: {'n_estimatores': 134, 'learning_rate': 0.023619708582896703, 'max_depth': 11, 'min_child_weight': 1}. Best is trial 9 with value: 2655862.262532795.\n",
      "/home/mle-user/mle_projects/mle-project-sprint-2-v001/.venv_mle_project_sprint_2/lib/python3.10/site-packages/sklearn/model_selection/_split.py:737: UserWarning: The least populated class in y has only 1 members, which is less than n_splits=2.\n",
      "  warnings.warn(\n",
      "/home/mle-user/mle_projects/mle-project-sprint-2-v001/.venv_mle_project_sprint_2/lib/python3.10/site-packages/xgboost/core.py:158: UserWarning: [11:14:57] WARNING: /workspace/src/learner.cc:740: \n",
      "Parameters: { \"random_seed\" } are not used.\n",
      "\n",
      "  warnings.warn(smsg, UserWarning)\n",
      "/home/mle-user/mle_projects/mle-project-sprint-2-v001/.venv_mle_project_sprint_2/lib/python3.10/site-packages/xgboost/core.py:158: UserWarning: [11:14:59] WARNING: /workspace/src/learner.cc:740: \n",
      "Parameters: { \"random_seed\" } are not used.\n",
      "\n",
      "  warnings.warn(smsg, UserWarning)\n",
      "[I 2025-01-16 11:15:00,854] Trial 10 finished with value: 3832867.5531845116 and parameters: {'n_estimatores': 179, 'learning_rate': 0.0022972999556649647, 'max_depth': 6, 'min_child_weight': 4}. Best is trial 9 with value: 2655862.262532795.\n",
      "/home/mle-user/mle_projects/mle-project-sprint-2-v001/.venv_mle_project_sprint_2/lib/python3.10/site-packages/sklearn/model_selection/_split.py:737: UserWarning: The least populated class in y has only 1 members, which is less than n_splits=2.\n",
      "  warnings.warn(\n",
      "/home/mle-user/mle_projects/mle-project-sprint-2-v001/.venv_mle_project_sprint_2/lib/python3.10/site-packages/xgboost/core.py:158: UserWarning: [11:15:01] WARNING: /workspace/src/learner.cc:740: \n",
      "Parameters: { \"random_seed\" } are not used.\n",
      "\n",
      "  warnings.warn(smsg, UserWarning)\n",
      "/home/mle-user/mle_projects/mle-project-sprint-2-v001/.venv_mle_project_sprint_2/lib/python3.10/site-packages/xgboost/core.py:158: UserWarning: [11:15:03] WARNING: /workspace/src/learner.cc:740: \n",
      "Parameters: { \"random_seed\" } are not used.\n",
      "\n",
      "  warnings.warn(smsg, UserWarning)\n",
      "[I 2025-01-16 11:15:04,658] Trial 11 finished with value: 3055601.831836176 and parameters: {'n_estimatores': 75, 'learning_rate': 0.019801649102368316, 'max_depth': 9, 'min_child_weight': 6}. Best is trial 9 with value: 2655862.262532795.\n",
      "/home/mle-user/mle_projects/mle-project-sprint-2-v001/.venv_mle_project_sprint_2/lib/python3.10/site-packages/sklearn/model_selection/_split.py:737: UserWarning: The least populated class in y has only 1 members, which is less than n_splits=2.\n",
      "  warnings.warn(\n",
      "/home/mle-user/mle_projects/mle-project-sprint-2-v001/.venv_mle_project_sprint_2/lib/python3.10/site-packages/xgboost/core.py:158: UserWarning: [11:15:05] WARNING: /workspace/src/learner.cc:740: \n",
      "Parameters: { \"random_seed\" } are not used.\n",
      "\n",
      "  warnings.warn(smsg, UserWarning)\n",
      "/home/mle-user/mle_projects/mle-project-sprint-2-v001/.venv_mle_project_sprint_2/lib/python3.10/site-packages/xgboost/core.py:158: UserWarning: [11:15:12] WARNING: /workspace/src/learner.cc:740: \n",
      "Parameters: { \"random_seed\" } are not used.\n",
      "\n",
      "  warnings.warn(smsg, UserWarning)\n",
      "[I 2025-01-16 11:15:19,066] Trial 12 finished with value: 3761623.0274177864 and parameters: {'n_estimatores': 175, 'learning_rate': 0.002137155054688737, 'max_depth': 11, 'min_child_weight': 10}. Best is trial 9 with value: 2655862.262532795.\n",
      "/home/mle-user/mle_projects/mle-project-sprint-2-v001/.venv_mle_project_sprint_2/lib/python3.10/site-packages/sklearn/model_selection/_split.py:737: UserWarning: The least populated class in y has only 1 members, which is less than n_splits=2.\n",
      "  warnings.warn(\n",
      "/home/mle-user/mle_projects/mle-project-sprint-2-v001/.venv_mle_project_sprint_2/lib/python3.10/site-packages/xgboost/core.py:158: UserWarning: [11:15:19] WARNING: /workspace/src/learner.cc:740: \n",
      "Parameters: { \"random_seed\" } are not used.\n",
      "\n",
      "  warnings.warn(smsg, UserWarning)\n",
      "/home/mle-user/mle_projects/mle-project-sprint-2-v001/.venv_mle_project_sprint_2/lib/python3.10/site-packages/xgboost/core.py:158: UserWarning: [11:15:19] WARNING: /workspace/src/learner.cc:740: \n",
      "Parameters: { \"random_seed\" } are not used.\n",
      "\n",
      "  warnings.warn(smsg, UserWarning)\n",
      "[I 2025-01-16 11:15:19,932] Trial 13 finished with value: 4476816.431808929 and parameters: {'n_estimatores': 56, 'learning_rate': 0.0011693441423287715, 'max_depth': 2, 'min_child_weight': 4}. Best is trial 9 with value: 2655862.262532795.\n",
      "/home/mle-user/mle_projects/mle-project-sprint-2-v001/.venv_mle_project_sprint_2/lib/python3.10/site-packages/sklearn/model_selection/_split.py:737: UserWarning: The least populated class in y has only 1 members, which is less than n_splits=2.\n",
      "  warnings.warn(\n",
      "/home/mle-user/mle_projects/mle-project-sprint-2-v001/.venv_mle_project_sprint_2/lib/python3.10/site-packages/xgboost/core.py:158: UserWarning: [11:15:20] WARNING: /workspace/src/learner.cc:740: \n",
      "Parameters: { \"random_seed\" } are not used.\n",
      "\n",
      "  warnings.warn(smsg, UserWarning)\n",
      "/home/mle-user/mle_projects/mle-project-sprint-2-v001/.venv_mle_project_sprint_2/lib/python3.10/site-packages/xgboost/core.py:158: UserWarning: [11:15:20] WARNING: /workspace/src/learner.cc:740: \n",
      "Parameters: { \"random_seed\" } are not used.\n",
      "\n",
      "  warnings.warn(smsg, UserWarning)\n",
      "[I 2025-01-16 11:15:20,861] Trial 14 finished with value: 3286946.429140091 and parameters: {'n_estimatores': 98, 'learning_rate': 0.04550100889472191, 'max_depth': 1, 'min_child_weight': 1}. Best is trial 9 with value: 2655862.262532795.\n",
      "/home/mle-user/mle_projects/mle-project-sprint-2-v001/.venv_mle_project_sprint_2/lib/python3.10/site-packages/sklearn/model_selection/_split.py:737: UserWarning: The least populated class in y has only 1 members, which is less than n_splits=2.\n",
      "  warnings.warn(\n",
      "/home/mle-user/mle_projects/mle-project-sprint-2-v001/.venv_mle_project_sprint_2/lib/python3.10/site-packages/xgboost/core.py:158: UserWarning: [11:15:21] WARNING: /workspace/src/learner.cc:740: \n",
      "Parameters: { \"random_seed\" } are not used.\n",
      "\n",
      "  warnings.warn(smsg, UserWarning)\n",
      "/home/mle-user/mle_projects/mle-project-sprint-2-v001/.venv_mle_project_sprint_2/lib/python3.10/site-packages/xgboost/core.py:158: UserWarning: [11:15:25] WARNING: /workspace/src/learner.cc:740: \n",
      "Parameters: { \"random_seed\" } are not used.\n",
      "\n",
      "  warnings.warn(smsg, UserWarning)\n",
      "[I 2025-01-16 11:15:29,627] Trial 15 finished with value: 4212300.898312751 and parameters: {'n_estimatores': 131, 'learning_rate': 0.0011437140567555708, 'max_depth': 10, 'min_child_weight': 8}. Best is trial 9 with value: 2655862.262532795.\n",
      "/home/mle-user/mle_projects/mle-project-sprint-2-v001/.venv_mle_project_sprint_2/lib/python3.10/site-packages/sklearn/model_selection/_split.py:737: UserWarning: The least populated class in y has only 1 members, which is less than n_splits=2.\n",
      "  warnings.warn(\n",
      "/home/mle-user/mle_projects/mle-project-sprint-2-v001/.venv_mle_project_sprint_2/lib/python3.10/site-packages/xgboost/core.py:158: UserWarning: [11:15:30] WARNING: /workspace/src/learner.cc:740: \n",
      "Parameters: { \"random_seed\" } are not used.\n",
      "\n",
      "  warnings.warn(smsg, UserWarning)\n",
      "/home/mle-user/mle_projects/mle-project-sprint-2-v001/.venv_mle_project_sprint_2/lib/python3.10/site-packages/xgboost/core.py:158: UserWarning: [11:15:33] WARNING: /workspace/src/learner.cc:740: \n",
      "Parameters: { \"random_seed\" } are not used.\n",
      "\n",
      "  warnings.warn(smsg, UserWarning)\n",
      "[I 2025-01-16 11:15:36,704] Trial 16 finished with value: 3002497.051312226 and parameters: {'n_estimatores': 56, 'learning_rate': 0.05481462982600583, 'max_depth': 12, 'min_child_weight': 2}. Best is trial 9 with value: 2655862.262532795.\n",
      "/home/mle-user/mle_projects/mle-project-sprint-2-v001/.venv_mle_project_sprint_2/lib/python3.10/site-packages/sklearn/model_selection/_split.py:737: UserWarning: The least populated class in y has only 1 members, which is less than n_splits=2.\n",
      "  warnings.warn(\n",
      "/home/mle-user/mle_projects/mle-project-sprint-2-v001/.venv_mle_project_sprint_2/lib/python3.10/site-packages/xgboost/core.py:158: UserWarning: [11:15:37] WARNING: /workspace/src/learner.cc:740: \n",
      "Parameters: { \"random_seed\" } are not used.\n",
      "\n",
      "  warnings.warn(smsg, UserWarning)\n",
      "/home/mle-user/mle_projects/mle-project-sprint-2-v001/.venv_mle_project_sprint_2/lib/python3.10/site-packages/xgboost/core.py:158: UserWarning: [11:15:42] WARNING: /workspace/src/learner.cc:740: \n",
      "Parameters: { \"random_seed\" } are not used.\n",
      "\n",
      "  warnings.warn(smsg, UserWarning)\n",
      "[I 2025-01-16 11:15:45,679] Trial 17 finished with value: 2669453.2861310896 and parameters: {'n_estimatores': 115, 'learning_rate': 0.024334596984419008, 'max_depth': 10, 'min_child_weight': 1}. Best is trial 9 with value: 2655862.262532795.\n"
     ]
    },
    {
     "name": "stdout",
     "output_type": "stream",
     "text": [
      "Number of finished trials: 18\n",
      "Best params: {'n_estimatores': 134, 'learning_rate': 0.023619708582896703, 'max_depth': 11, 'min_child_weight': 1}\n"
     ]
    }
   ],
   "source": [
    "from optuna.integration.mlflow import MLflowCallback\n",
    "\n",
    "RUN_NAME = 'optuna_implemenation'\n",
    "STUDY_NAME = 'project-2-sprint'\n",
    "STUDY_DB_NAME = \"sqlite:///local.study.db\"\n",
    "\n",
    "experiment = mlflow.get_experiment_by_name(EXPERIMENT_NAME)\n",
    "if not experiment:\n",
    "    experiment_id = mlflow.create_experiment(EXPERIMENT_NAME)\n",
    "else:\n",
    "    experiment_id = experiment.experiment_id\n",
    "    \n",
    "\n",
    "with mlflow.start_run(run_name=RUN_NAME, experiment_id=experiment_id) as run:\n",
    "    run_id = run.info.run_id\n",
    "\n",
    "mlflc = MLflowCallback(\n",
    "    tracking_uri=mlflow.get_tracking_uri(),\n",
    "    metric_name=\"MAE\",\n",
    "    create_experiment=False,\n",
    "    mlflow_kwargs={'experiment_id': experiment_id, 'tags': {'mlflow.parentRunId': run_id}}\n",
    ")\n",
    "\n",
    "\n",
    "study = optuna.create_study(direction='minimize', study_name=STUDY_NAME,\n",
    "                            storage=STUDY_DB_NAME, sampler=optuna.samplers.TPESampler(),\n",
    "                            load_if_exists=True)\n",
    "study.optimize(objective, n_trials=10, callbacks=[mlflc])\n",
    "best_params = study.best_params\n",
    "\n",
    "print(f\"Number of finished trials: {len(study.trials)}\")\n",
    "print(f\"Best params: {best_params}\")"
   ]
  },
  {
   "cell_type": "code",
   "execution_count": 59,
   "metadata": {},
   "outputs": [
    {
     "name": "stderr",
     "output_type": "stream",
     "text": [
      "/home/mle-user/mle_projects/mle-project-sprint-2-v001/.venv_mle_project_sprint_2/lib/python3.10/site-packages/xgboost/core.py:158: UserWarning: [11:16:06] WARNING: /workspace/src/learner.cc:740: \n",
      "Parameters: { \"n_estimatores\" } are not used.\n",
      "\n",
      "  warnings.warn(smsg, UserWarning)\n",
      "Successfully registered model 'optuna_model'.\n",
      "2025/01/16 11:16:13 INFO mlflow.tracking._model_registry.client: Waiting up to 60 seconds for model version to finish creation. Model name: optuna_model, version 1\n",
      "Created version '1' of model 'optuna_model'.\n"
     ]
    }
   ],
   "source": [
    "model = xgb.XGBRegressor(**best_params)\n",
    "model.fit(X_train, y_train)\n",
    "metric_optuna = {}\n",
    "prediction = model.predict(X_test)\n",
    "mae = mean_absolute_error(y_test, prediction)\n",
    "metric_optuna['mae'] = mae\n",
    "\n",
    "pip_requirements = \"../requirements.txt\"\n",
    "signature = mlflow.models.infer_signature(X_test, prediction)\n",
    "input_example = X_test[:10]\n",
    "metadata = {'model_type': 'monthly'}\n",
    "\n",
    "REGISTRY_MODEL_NAME = 'optuna_model'\n",
    "\n",
    "mlflow.end_run()\n",
    "with mlflow.start_run(run_name=RUN_NAME, experiment_id=experiment_id, run_id=run_id) as run:\n",
    "    \n",
    "    model_info = mlflow.sklearn.log_model(\n",
    "        sk_model=model,\n",
    "        pip_requirements=pip_requirements,\n",
    "        metadata=metadata,\n",
    "        signature=signature,\n",
    "        input_example=input_example,\n",
    "        registered_model_name=REGISTRY_MODEL_NAME,\n",
    "        artifact_path='models',\n",
    "        await_registration_for=60\n",
    "    )\n",
    "    mlflow.log_metrics(metrics=metric_optuna)\n",
    "    "
   ]
  },
  {
   "cell_type": "code",
   "execution_count": 60,
   "metadata": {},
   "outputs": [],
   "source": [
    "from sklearn.model_selection import RandomizedSearchCV\n",
    "\n",
    "params = {\n",
    "    \"n_estimators\": [50, 100, 150, 200],\n",
    "    \"learning_rate\": [0.05, 0.1],\n",
    "    \"max_depth\": [4, 6, 8],\n",
    "    \"min_child_weight\": [1, 3, 5]\n",
    "}\n",
    "\n",
    "model = xgb.XGBRegressor(**params)\n",
    "\n",
    "cv = RandomizedSearchCV(n_iter=20, estimator=model, param_distributions=params, cv=2, random_state=42, n_jobs=-1)\n",
    "\n",
    "clf = cv.fit(X_train, y_train)\n",
    "\n",
    "cv_results = pd.DataFrame(clf.cv_results_)\n",
    "\n",
    "best_params = clf.best_params_"
   ]
  },
  {
   "cell_type": "code",
   "execution_count": 61,
   "metadata": {},
   "outputs": [
    {
     "name": "stderr",
     "output_type": "stream",
     "text": [
      "/home/mle-user/mle_projects/mle-project-sprint-2-v001/.venv_mle_project_sprint_2/lib/python3.10/site-packages/xgboost/core.py:158: UserWarning: [11:17:44] WARNING: /workspace/src/c_api/c_api.cc:1374: Saving model in the UBJSON format as default.  You can use file extension: `json`, `ubj` or `deprecated` to choose between formats.\n",
      "  warnings.warn(smsg, UserWarning)\n",
      "Successfully registered model 'random_search_model_project'.\n",
      "2025/01/16 11:17:45 INFO mlflow.tracking._model_registry.client: Waiting up to 60 seconds for model version to finish creation. Model name: random_search_model_project, version 1\n",
      "Created version '1' of model 'random_search_model_project'.\n"
     ]
    }
   ],
   "source": [
    "model = xgb.XGBRegressor(**best_params)\n",
    "\n",
    "\n",
    "model.fit(X_train, y_train)\n",
    "prediction = model.predict(X_test)\n",
    "\n",
    "metric_randomCV = {}\n",
    "mae = mean_absolute_error(y_test, prediction)\n",
    "metric_randomCV['mae'] = mae\n",
    "\n",
    "\n",
    "# дополнительные метрики из результатов кросс-валидации\n",
    "metric_randomCV['mean_test_score'] = cv_results['mean_test_score'].mean()# среднее время обучения\n",
    "metric_randomCV['std_fit_time'] = cv_results['std_fit_time'].mean()# стандартное отклонение времени обучения\n",
    "metric_randomCV['mean_fit_time'] = cv_results['mean_fit_time'].mean() # средний результат на тесте\n",
    "metric_randomCV['std_test_score'] = cv_results['std_test_score'].mean()# стандартное отклонение результата на тесте\n",
    "metric_randomCV['best_score'] = clf.best_score_\n",
    "\n",
    "# настройки для логирования в MLFlow\n",
    "pip_requirements= \"../requirements.txt\"\n",
    "signature = mlflow.models.infer_signature(X_test, prediction)\n",
    "input_example = X_test[:10]\n",
    "\n",
    "RUN_NAME = 'model_random_search_project'\n",
    "REGISTRY_MODEL_NAME = \"random_search_model_project\"\n",
    "\n",
    "experiment_id = mlflow.get_experiment_by_name(EXPERIMENT_NAME)\n",
    "if not (experiment_id):\n",
    "    experiment_id = mlflow.create_experiment(EXPERIMENT_NAME)\n",
    "else:\n",
    "    experiment_id = experiment_id.experiment_id\n",
    "\n",
    "with mlflow.start_run(run_name=RUN_NAME, experiment_id=experiment_id) as run:\n",
    "    run_id = run.info.run_id\n",
    "    # ваш код здесь\n",
    "    cv_info = mlflow.sklearn.log_model(\n",
    "        cv, artifact_path='cv')\n",
    "    model_info = mlflow.catboost.log_model(\n",
    "        cb_model = model,\n",
    "        artifact_path='models',\n",
    "        metadata=metadata,\n",
    "        signature=signature,\n",
    "        input_example=input_example,\n",
    "        registered_model_name=REGISTRY_MODEL_NAME,\n",
    "        await_registration_for=60,\n",
    "        pip_requirements=pip_requirements)\n",
    "    mlflow.log_params(best_params)\n",
    "    mlflow.log_metrics(metric_randomCV)"
   ]
  },
  {
   "cell_type": "code",
   "execution_count": 62,
   "metadata": {},
   "outputs": [
    {
     "data": {
      "image/png": "[encoded data removed]",
      "text/plain": [
       "<Figure size 640x480 with 1 Axes>"
      ]
     },
     "metadata": {},
     "output_type": "display_data"
    }
   ],
   "source": [
    "data = pd.DataFrame({\n",
    "    'method': ['Before_selection','SBS', 'SFS', 'UNION', 'INTERSEC',\n",
    "                'OPTUNA', \"RANDOM_SEARCH\"],\n",
    "    'values': [metric_fe_af['mae'],metric_sbs['mae'], metric_sfs['mae'],\n",
    "                metric_union['mae'], metric_interc['mae'], metric_optuna['mae'],\n",
    "                metric_randomCV['mae']]\n",
    "})\n",
    "sns.barplot(x='method', y='values',data=data)\n",
    "plt.savefig(os.path.join(ASSETS_DIR,'metrics_improvement_common_plot'))"
   ]
  },
  {
   "cell_type": "markdown",
   "metadata": {},
   "source": [
    "Optuna gives us the best model"
   ]
  },
  {
   "cell_type": "markdown",
   "metadata": {},
   "source": []
  }
 ],
 "metadata": {
  "kernelspec": {
   "display_name": ".venv_mle_project_sprint_2",
   "language": "python",
   "name": "python3"
  },
  "language_info": {
   "codemirror_mode": {
    "name": "ipython",
    "version": 3
   },
   "file_extension": ".py",
   "mimetype": "text/x-python",
   "name": "python",
   "nbconvert_exporter": "python",
   "pygments_lexer": "ipython3",
   "version": "3.10.12"
  }
 },
 "nbformat": 4,
 "nbformat_minor": 2
}
